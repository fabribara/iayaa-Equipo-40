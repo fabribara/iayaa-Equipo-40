{
  "nbformat": 4,
  "nbformat_minor": 0,
  "metadata": {
    "colab": {
      "provenance": [],
      "collapsed_sections": [],
      "include_colab_link": true
    },
    "kernelspec": {
      "display_name": "Python 3",
      "name": "python3"
    }
  },
  "cells": [
    {
      "cell_type": "markdown",
      "metadata": {
        "id": "view-in-github",
        "colab_type": "text"
      },
      "source": [
        "<a href=\"https://colab.research.google.com/github/fabribara/iayaa-Equipo-40/blob/main/MNA_IAyAA_semana_6_Actividad.ipynb\" target=\"_parent\"><img src=\"https://colab.research.google.com/assets/colab-badge.svg\" alt=\"Open In Colab\"/></a>"
      ]
    },
    {
      "cell_type": "markdown",
      "source": [
        "#**Maestría en Inteligencia Artificial Aplicada**\n",
        "##**Curso: Inteligencia Artificial y Aprendizaje Automático**\n",
        "###Tecnológico de Monterrey\n",
        "###Prof Luis Eduardo Falcón Morales\n",
        "\n",
        "## **Adtividad de la Semana 6**\n",
        "###**Árboles de decisión y bosque aleatorio.**\n"
      ],
      "metadata": {
        "id": "VFj0sSM06dYa"
      }
    },
    {
      "cell_type": "markdown",
      "source": [
        "**Nombres y matrículas de los integrantes del equipo:**\n",
        "\n",
        "*   José Fabricio Barahona Amaya Matrícula # A01792950\n",
        "*   Giovanni Andrés Acuña Morales Mtrícula # \n",
        "*   \n",
        "*   \n",
        "*   \n"
      ],
      "metadata": {
        "id": "Qgrvy0RGB9XI"
      }
    },
    {
      "cell_type": "markdown",
      "source": [
        "En cada sección deberás incluir todas las líneas de código necesarias para responder a cada uno de los ejercicios."
      ],
      "metadata": {
        "id": "FrJ2ahMODVj1"
      }
    },
    {
      "cell_type": "code",
      "source": [
        "# Incluye aquí todos módulos, librerías y paquetes que requieras.\n",
        "import pandas as pd\n",
        "import numpy as np\n",
        "import zipfile as zf\n",
        "import requests\n",
        "import io\n",
        "from sklearn.model_selection import train_test_split\n",
        "from sklearn.ensemble import RandomForestClassifier\n",
        "from sklearn.linear_model import LogisticRegression\n",
        "from sklearn import tree\n",
        "from sklearn.impute import SimpleImputer\n",
        "from sklearn.compose import ColumnTransformer\n",
        "from sklearn.pipeline import Pipeline\n",
        "from sklearn.preprocessing import OrdinalEncoder\n",
        "from sklearn.preprocessing import StandardScaler, OneHotEncoder\n",
        "from sklearn.metrics import confusion_matrix\n",
        "import matplotlib.pyplot as plt \n",
        "import seaborn as sns \n",
        "from sklearn.model_selection import  cross_validate,RepeatedStratifiedKFold\n",
        "from sklearn.metrics import classification_report, make_scorer\n",
        "from imblearn.under_sampling import TomekLinks\n",
        "from imblearn.over_sampling import SMOTE\n",
        "from imblearn.combine import SMOTEENN\n",
        "from imblearn.over_sampling import RandomOverSampler\n",
        "\n",
        "from sklearn.model_selection import cross_val_score \n",
        "from imblearn.pipeline import make_pipeline\n",
        "from sklearn.model_selection import learning_curve, validation_curve\n",
        "import warnings\n",
        "warnings.filterwarnings('ignore')"
      ],
      "metadata": {
        "id": "exXsscs-Dh-2"
      },
      "execution_count": 126,
      "outputs": []
    },
    {
      "cell_type": "markdown",
      "metadata": {
        "id": "X25brD-gQdZM"
      },
      "source": [
        "#**Ejercicio-1.** \n",
        "\n",
        "1. Carga los datos y sustituye los nombres de las columnas del alemán al inglés de acuerdo a como\n",
        "se indica en la página de la UCI.\n",
        "NOTA: Si lo deseas, puedes traducirlos y ponerlas en español. "
      ]
    },
    {
      "cell_type": "code",
      "source": [
        "#https://archive.ics.uci.edu/ml/machine-learning-databases/00522/SouthGermanCredit.zip\n",
        "result = requests.get(\"https://archive.ics.uci.edu/ml/machine-learning-databases/00522/SouthGermanCredit.zip\")\n",
        "names = [\"status\", \"duration\", \"credit_history\", \"purpose\", \"amount\", \n",
        "                \"savings\", \"employment_duration\", \"installment_rate\",\n",
        "                \"personal_status_sex\", \"other_debtors\",\n",
        "                \"present_residence\", \"property\",\n",
        "                \"age\", \"other_installment_plans\",\n",
        "                \"housing\", \"number_credits\",\n",
        "                \"job\", \"people_liable\", \"telephone\", \"foreign_worker\",\n",
        "                \"credit_risk\"]\n",
        "file_like_object = io.BytesIO(result.content)\n",
        "z = zf.ZipFile(file_like_object)\n",
        "with z.open(\"SouthGermanCredit.asc\") as f:\n",
        "  creditData = pd.read_csv(f, header=0, delimiter=\" \")\n",
        "  creditData = creditData.set_axis(names, axis=1, inplace=False)\n",
        "  print(creditData.head())    # print the first 5 rows"
      ],
      "metadata": {
        "id": "3nU2GuWYCy6C",
        "colab": {
          "base_uri": "https://localhost:8080/"
        },
        "outputId": "0b216e43-d5d2-44f9-a787-4df43b676c83"
      },
      "execution_count": 38,
      "outputs": [
        {
          "output_type": "stream",
          "name": "stdout",
          "text": [
            "   status  duration  credit_history  purpose  amount  savings  \\\n",
            "0       1        18               4        2    1049        1   \n",
            "1       1         9               4        0    2799        1   \n",
            "2       2        12               2        9     841        2   \n",
            "3       1        12               4        0    2122        1   \n",
            "4       1        12               4        0    2171        1   \n",
            "\n",
            "   employment_duration  installment_rate  personal_status_sex  other_debtors  \\\n",
            "0                    2                 4                    2              1   \n",
            "1                    3                 2                    3              1   \n",
            "2                    4                 2                    2              1   \n",
            "3                    3                 3                    3              1   \n",
            "4                    3                 4                    3              1   \n",
            "\n",
            "   ...  property  age  other_installment_plans  housing  number_credits  job  \\\n",
            "0  ...         2   21                        3        1               1    3   \n",
            "1  ...         1   36                        3        1               2    3   \n",
            "2  ...         1   23                        3        1               1    2   \n",
            "3  ...         1   39                        3        1               2    2   \n",
            "4  ...         2   38                        1        2               2    2   \n",
            "\n",
            "   people_liable  telephone  foreign_worker  credit_risk  \n",
            "0              2          1               2            1  \n",
            "1              1          1               2            1  \n",
            "2              2          1               2            1  \n",
            "3              1          1               1            1  \n",
            "4              2          1               1            1  \n",
            "\n",
            "[5 rows x 21 columns]\n"
          ]
        }
      ]
    },
    {
      "cell_type": "code",
      "source": [
        "y=creditData.iloc[:,-1]\n",
        "X=creditData.iloc[:,0:-1]\n"
      ],
      "metadata": {
        "id": "0ulkqXVGCy97",
        "colab": {
          "base_uri": "https://localhost:8080/"
        },
        "outputId": "1e3879b7-02a7-42ed-9b81-1bed833a595b"
      },
      "execution_count": 48,
      "outputs": [
        {
          "output_type": "stream",
          "name": "stdout",
          "text": [
            "(1000,)\n",
            "(1000, 20)\n",
            "(1000, 21)\n",
            "0    1\n",
            "1    1\n",
            "2    1\n",
            "3    1\n",
            "4    1\n",
            "Name: credit_risk, dtype: int64\n"
          ]
        }
      ]
    },
    {
      "cell_type": "markdown",
      "source": [
        "#**Ejercicio-2.**\n",
        "\n",
        " Realiza una partición de los datos en el conjunto de entrenamiento del 85% y el de prueba de \n",
        "15%. Los modelos se estarán entrenando con el método de validación cruzada, así que no es \n",
        "necesario en este paso generar el conjunto de validación. Define como la variable X a todas las \n",
        "variables de entrada y a la variable Y como la variable de salida. \n",
        "\n",
        "Column name: laufkont\n",
        "Variable name: status\n",
        "Content: status of the debtor's checking account with the bank (categorical)\n",
        "\n",
        "Column name: laufzeit\n",
        "Variable name: duration\n",
        "Content: credit duration in months (quantitative)\n",
        "\n",
        "Column name: moral\n",
        "Variable name: credit_history\n",
        "Content: history of compliance with previous or concurrent credit contracts (categorical)\n",
        "\n",
        "Column name: verw\n",
        "Variable name: purpose\n",
        "Content: purpose for which the credit is needed (categorical)\n",
        "\n",
        "Column name: hoehe\n",
        "Variable name: amount\n",
        "Content: credit amount in DM (quantitative; result of monotonic transformation; actual data and type of\n",
        "transformation unknown)\n",
        "\n",
        "Column name: sparkont\n",
        "Variable name: savings\n",
        "Content: debtor's savings (categorical)\n",
        "\n",
        "Column name: beszeit\n",
        "Variable name: employment_duration\n",
        "Content: duration of debtor's employment with current employer (ordinal; discretized quantitative)\n",
        "\n",
        "Column name: rate\n",
        "Variable name: installment_rate\n",
        "Content: credit installments as a percentage of debtor's disposable income (ordinal; discretized quantitative)\n",
        "\n",
        "Column name: famges\n",
        "Variable name: personal_status_sex\n",
        "Content: combined information on sex and marital status; categorical; sex cannot be recovered from the\n",
        "variable, because male singles and female non-singles are coded with the same code (2); female widows cannot\n",
        "be easily classified, because the code table does not list them in any of the female categories\n",
        "\n",
        "Column name: buerge\n",
        "Variable name: other_debtors\n",
        "Content: Is there another debtor or a guarantor for the credit? (categorical)\n",
        "\n",
        "Column name: wohnzeit\n",
        "Variable name: present_residence\n",
        "Content: length of time (in years) the debtor lives in the present residence (ordinal; discretized quantitative)\n",
        "\n",
        "Column name: verm\n",
        "Variable name: property\n",
        "Content: the debtor's most valuable property, i.e. the highest possible code is used. Code 2 is used, if codes 3\n",
        "or 4 are not applicable and there is a car or any other relevant property that does not fall under variable\n",
        "sparkont. (ordinal)\n",
        "\n",
        "Column name: alter\n",
        "Variable name: age\n",
        "Content: age in years (quantitative)\n",
        "\n",
        "Column name: weitkred\n",
        "Variable name: other_installment_plans\n",
        "Content: installment plans from providers other than the credit-giving bank (categorical)\n",
        "\n",
        "Column name: wohn\n",
        "Variable name: housing\n",
        "Content: type of housing the debtor lives in (categorical)\n",
        "\n",
        "Column name: bishkred\n",
        "Variable name: number_credits\n",
        "Content: number of credits including the current one the debtor has (or had) at this bank (ordinal, discretized\n",
        "quantitative); contrary to Fahrmeir and HamerleÃ¢â‚¬â„¢s (1984) statement, the original data values are not available.\n",
        "\n",
        "Column name: beruf\n",
        "Variable name: job\n",
        "Content: quality of debtor's job (ordinal)\n",
        "\n",
        "Column name: pers\n",
        "Variable name: people_liable\n",
        "Content: number of persons who financially depend on the debtor (i.e., are entitled to maintenance) (binary,\n",
        "discretized quantitative)\n",
        "\n",
        "Column name: telef\n",
        "Variable name: telephone\n",
        "Content: Is there a telephone landline registered on the debtor's name? (binary; remember that the data are\n",
        "from the 1970s)\n",
        "\n",
        "Column name: gastarb\n",
        "Variable name: foreign_worker\n",
        "Content: Is the debtor a foreign worker? (binary)\n",
        "\n",
        "Column name: kredit\n",
        "Variable name: credit_risk\n",
        "Content: Has the credit contract been complied with (good) or not (bad) ? (binary)"
      ],
      "metadata": {
        "id": "xZhr2hkECzVv"
      }
    },
    {
      "cell_type": "code",
      "source": [
        "X_train, X_test, y_train, y_test = train_test_split(X, y, stratify=y, test_size=0.15)\n",
        "X.people_liable.value_counts()"
      ],
      "metadata": {
        "id": "kGfAoOPkC1PP",
        "colab": {
          "base_uri": "https://localhost:8080/"
        },
        "outputId": "d21eb4df-885f-4170-a20c-232b7df1529e"
      },
      "execution_count": 65,
      "outputs": [
        {
          "output_type": "execute_result",
          "data": {
            "text/plain": [
              "2    845\n",
              "1    155\n",
              "Name: people_liable, dtype: int64"
            ]
          },
          "metadata": {},
          "execution_count": 65
        }
      ]
    },
    {
      "cell_type": "code",
      "source": [
        "status = [\"no checking account\",\n",
        "                         \"... < 0 DM\",\n",
        "                         \"0<= ... < 200 DM\",\n",
        "                         \"... >= 200 DM / salary for at least 1 year\"]\n",
        "\n",
        "credit_history = [ \"delay in paying off in the past\",\n",
        "  \"critical account/other credits elsewhere\",\n",
        "  \"no credits taken/all credits paid back duly\",\n",
        "  \"existing credits paid back duly till now\",\n",
        "  \"all credits at this bank paid back duly\"]\n",
        "purpose = [\n",
        "  \"others\",\n",
        "  \"car (new)\",\n",
        "  \"car (used)\",\n",
        "  \"furniture/equipment\",\n",
        "  \"radio/television\",\n",
        "  \"domestic appliances\",\n",
        "  \"repairs\",\n",
        "  \"education\", \n",
        "  \"vacation\",\n",
        "  \"retraining\",\n",
        "  \"business\"]\n",
        "other_debtors=[\n",
        "  \"none\",\n",
        "  \"co-applicant\",\n",
        "  \"guarantor\"]\n",
        "personal_status_sex = [\n",
        "  \"male : divorced/separated\",\n",
        "  \"female : non-single or male : single\",\n",
        "  \"male : married/widowed\",\n",
        "  \"female : single\"]\n",
        "other_installment_plans=[\n",
        "  \"bank\",\n",
        "  \"stores\",\n",
        "  \"none\"]\n",
        "housing=[\"for free\", \"rent\", \"own\"]\n",
        "telephone =[\"no\", \"yes (under customer name)\"]\n",
        "foreign_worker =[\"yes\", \"no\"]\n",
        "savings =[\"unknown/no savings account\",\n",
        "                         \"... <  100 DM\", \n",
        "                         \"100 <= ... <  500 DM\",\n",
        "                         \"500 <= ... < 1000 DM\", \n",
        "                         \"... >= 1000 DM\"]\n",
        "X.dtypes\n",
        "categorical_columns = [\"status\", \"credit_history\",\"savings\", \"purpose\", \"other_debtors\",\"personal_status_sex\",\"other_installment_plans\",\"housing\",\"telephone\",\"people_liable\",\"foreign_worker\"]\n",
        "numerical_columns = [\"duration\", \"amount\",\"age\"]\n",
        "ordinal_columns=[ \"employment_duration\", \"installment_rate\", \"present_residence\",\"property\",\"job\",\"number_credits\"]\n",
        "\n",
        "numeric_transformer = Pipeline(steps=[(\"imputer\", SimpleImputer(strategy=\"median\")), (\"scaler\", StandardScaler())])\n",
        "categorical_transformer = OneHotEncoder(handle_unknown=\"ignore\")\n",
        "X[numerical_columns].describe()"
      ],
      "metadata": {
        "id": "GOydw5OGC1MJ",
        "colab": {
          "base_uri": "https://localhost:8080/",
          "height": 300
        },
        "outputId": "53229108-0b1e-404d-a641-032f083faa64"
      },
      "execution_count": 122,
      "outputs": [
        {
          "output_type": "execute_result",
          "data": {
            "text/plain": [
              "          duration       amount         age\n",
              "count  1000.000000   1000.00000  1000.00000\n",
              "mean     20.903000   3271.24800    35.54200\n",
              "std      12.058814   2822.75176    11.35267\n",
              "min       4.000000    250.00000    19.00000\n",
              "25%      12.000000   1365.50000    27.00000\n",
              "50%      18.000000   2319.50000    33.00000\n",
              "75%      24.000000   3972.25000    42.00000\n",
              "max      72.000000  18424.00000    75.00000"
            ],
            "text/html": [
              "\n",
              "  <div id=\"df-93e0d727-3649-46c9-87fa-a49b20efb6ad\">\n",
              "    <div class=\"colab-df-container\">\n",
              "      <div>\n",
              "<style scoped>\n",
              "    .dataframe tbody tr th:only-of-type {\n",
              "        vertical-align: middle;\n",
              "    }\n",
              "\n",
              "    .dataframe tbody tr th {\n",
              "        vertical-align: top;\n",
              "    }\n",
              "\n",
              "    .dataframe thead th {\n",
              "        text-align: right;\n",
              "    }\n",
              "</style>\n",
              "<table border=\"1\" class=\"dataframe\">\n",
              "  <thead>\n",
              "    <tr style=\"text-align: right;\">\n",
              "      <th></th>\n",
              "      <th>duration</th>\n",
              "      <th>amount</th>\n",
              "      <th>age</th>\n",
              "    </tr>\n",
              "  </thead>\n",
              "  <tbody>\n",
              "    <tr>\n",
              "      <th>count</th>\n",
              "      <td>1000.000000</td>\n",
              "      <td>1000.00000</td>\n",
              "      <td>1000.00000</td>\n",
              "    </tr>\n",
              "    <tr>\n",
              "      <th>mean</th>\n",
              "      <td>20.903000</td>\n",
              "      <td>3271.24800</td>\n",
              "      <td>35.54200</td>\n",
              "    </tr>\n",
              "    <tr>\n",
              "      <th>std</th>\n",
              "      <td>12.058814</td>\n",
              "      <td>2822.75176</td>\n",
              "      <td>11.35267</td>\n",
              "    </tr>\n",
              "    <tr>\n",
              "      <th>min</th>\n",
              "      <td>4.000000</td>\n",
              "      <td>250.00000</td>\n",
              "      <td>19.00000</td>\n",
              "    </tr>\n",
              "    <tr>\n",
              "      <th>25%</th>\n",
              "      <td>12.000000</td>\n",
              "      <td>1365.50000</td>\n",
              "      <td>27.00000</td>\n",
              "    </tr>\n",
              "    <tr>\n",
              "      <th>50%</th>\n",
              "      <td>18.000000</td>\n",
              "      <td>2319.50000</td>\n",
              "      <td>33.00000</td>\n",
              "    </tr>\n",
              "    <tr>\n",
              "      <th>75%</th>\n",
              "      <td>24.000000</td>\n",
              "      <td>3972.25000</td>\n",
              "      <td>42.00000</td>\n",
              "    </tr>\n",
              "    <tr>\n",
              "      <th>max</th>\n",
              "      <td>72.000000</td>\n",
              "      <td>18424.00000</td>\n",
              "      <td>75.00000</td>\n",
              "    </tr>\n",
              "  </tbody>\n",
              "</table>\n",
              "</div>\n",
              "      <button class=\"colab-df-convert\" onclick=\"convertToInteractive('df-93e0d727-3649-46c9-87fa-a49b20efb6ad')\"\n",
              "              title=\"Convert this dataframe to an interactive table.\"\n",
              "              style=\"display:none;\">\n",
              "        \n",
              "  <svg xmlns=\"http://www.w3.org/2000/svg\" height=\"24px\"viewBox=\"0 0 24 24\"\n",
              "       width=\"24px\">\n",
              "    <path d=\"M0 0h24v24H0V0z\" fill=\"none\"/>\n",
              "    <path d=\"M18.56 5.44l.94 2.06.94-2.06 2.06-.94-2.06-.94-.94-2.06-.94 2.06-2.06.94zm-11 1L8.5 8.5l.94-2.06 2.06-.94-2.06-.94L8.5 2.5l-.94 2.06-2.06.94zm10 10l.94 2.06.94-2.06 2.06-.94-2.06-.94-.94-2.06-.94 2.06-2.06.94z\"/><path d=\"M17.41 7.96l-1.37-1.37c-.4-.4-.92-.59-1.43-.59-.52 0-1.04.2-1.43.59L10.3 9.45l-7.72 7.72c-.78.78-.78 2.05 0 2.83L4 21.41c.39.39.9.59 1.41.59.51 0 1.02-.2 1.41-.59l7.78-7.78 2.81-2.81c.8-.78.8-2.07 0-2.86zM5.41 20L4 18.59l7.72-7.72 1.47 1.35L5.41 20z\"/>\n",
              "  </svg>\n",
              "      </button>\n",
              "      \n",
              "  <style>\n",
              "    .colab-df-container {\n",
              "      display:flex;\n",
              "      flex-wrap:wrap;\n",
              "      gap: 12px;\n",
              "    }\n",
              "\n",
              "    .colab-df-convert {\n",
              "      background-color: #E8F0FE;\n",
              "      border: none;\n",
              "      border-radius: 50%;\n",
              "      cursor: pointer;\n",
              "      display: none;\n",
              "      fill: #1967D2;\n",
              "      height: 32px;\n",
              "      padding: 0 0 0 0;\n",
              "      width: 32px;\n",
              "    }\n",
              "\n",
              "    .colab-df-convert:hover {\n",
              "      background-color: #E2EBFA;\n",
              "      box-shadow: 0px 1px 2px rgba(60, 64, 67, 0.3), 0px 1px 3px 1px rgba(60, 64, 67, 0.15);\n",
              "      fill: #174EA6;\n",
              "    }\n",
              "\n",
              "    [theme=dark] .colab-df-convert {\n",
              "      background-color: #3B4455;\n",
              "      fill: #D2E3FC;\n",
              "    }\n",
              "\n",
              "    [theme=dark] .colab-df-convert:hover {\n",
              "      background-color: #434B5C;\n",
              "      box-shadow: 0px 1px 3px 1px rgba(0, 0, 0, 0.15);\n",
              "      filter: drop-shadow(0px 1px 2px rgba(0, 0, 0, 0.3));\n",
              "      fill: #FFFFFF;\n",
              "    }\n",
              "  </style>\n",
              "\n",
              "      <script>\n",
              "        const buttonEl =\n",
              "          document.querySelector('#df-93e0d727-3649-46c9-87fa-a49b20efb6ad button.colab-df-convert');\n",
              "        buttonEl.style.display =\n",
              "          google.colab.kernel.accessAllowed ? 'block' : 'none';\n",
              "\n",
              "        async function convertToInteractive(key) {\n",
              "          const element = document.querySelector('#df-93e0d727-3649-46c9-87fa-a49b20efb6ad');\n",
              "          const dataTable =\n",
              "            await google.colab.kernel.invokeFunction('convertToInteractive',\n",
              "                                                     [key], {});\n",
              "          if (!dataTable) return;\n",
              "\n",
              "          const docLinkHtml = 'Like what you see? Visit the ' +\n",
              "            '<a target=\"_blank\" href=https://colab.research.google.com/notebooks/data_table.ipynb>data table notebook</a>'\n",
              "            + ' to learn more about interactive tables.';\n",
              "          element.innerHTML = '';\n",
              "          dataTable['output_type'] = 'display_data';\n",
              "          await google.colab.output.renderOutput(dataTable, element);\n",
              "          const docLink = document.createElement('div');\n",
              "          docLink.innerHTML = docLinkHtml;\n",
              "          element.appendChild(docLink);\n",
              "        }\n",
              "      </script>\n",
              "    </div>\n",
              "  </div>\n",
              "  "
            ]
          },
          "metadata": {},
          "execution_count": 122
        }
      ]
    },
    {
      "cell_type": "markdown",
      "source": [
        "#**Ejercicio-3.**\n",
        "3.  Como una primera aproximación (baseline) realizarás las siguientes transformaciones mínimas \n",
        "para generar los primeros modelos. En la misma página de la UCI se indica el tipo de variable de \n",
        "cada uno de los factores. Definen cuatro tipo de variables: categórica (categorical), ordinal \n",
        "(discretized quantitative), numérica (quantitative) y binaria (binary). Con base a dicha \n",
        "información realiza un Pipeline que incluya al menos las siguientes transformaciones: \n",
        "a.  Imputación a todas las variables de entrada, diferenciando entre el tipo de cada variable \n",
        "(decide y justifica que tipo de imputación realizas en cada caso). \n",
        "b.  Realiza un análisis de las variables numéricas (quantitative) de entrada y aplica una \n",
        "transformación que escale a todas ellas en un rango equiparable. \n",
        "c.  Aplica la transformación One-Hot encoding a las variables de entrada de tipo categórico y \n",
        "binaria. En particular, justifica por qué una variable binaria requeriría que se le aplique  la \n",
        "transformación one-hot encoding. Por el momento dejar las variables ordinales sin \n",
        "transformar. "
      ],
      "metadata": {
        "id": "NCunuooTC2W3"
      }
    },
    {
      "cell_type": "code",
      "source": [
        "preprocessor = ColumnTransformer(\n",
        "    transformers=[\n",
        "        (\"num\", numeric_transformer, numerical_columns),\n",
        "        (\"cat\", categorical_transformer, categorical_columns),\n",
        "    ]\n",
        ")"
      ],
      "metadata": {
        "id": "BKI80-YdC4HN"
      },
      "execution_count": 78,
      "outputs": []
    },
    {
      "cell_type": "markdown",
      "source": [
        "#**Ejercicio-4.**\n",
        "\n",
        "Llevarás un entrenamiento usando validación cruzada entre los siguientes tres modelos de\n",
        "aprendizaje automático: Regresión Logística, Árbol de Decisión y Bosque Aleatorio. Deberás\n",
        "llevar a cabo el entrenamiento de los tres de manera conjunta usando un ciclo FOR. Recuerda\n",
        "aplicar las transformaciones que definiste en tu Pipeline. El entrenamiento debe ser con las\n",
        "siguientes características:\n",
        "\n",
        "a. Usa los parámetros predeterminados de cada modelo.\n",
        "\n",
        "b. En cada iteración deben calcularse todas las siguientes métricas: accuracy, precision,\n",
        "recall, f1-score y Gmean. Todas estas métricas deben ser funciones que tú mismo debes\n",
        "definir (Es decir, no usar las funciones de dichas métricas que te proporciona scikit-learn.\n",
        "Sin embargo, sí puedes usar la información regresada por el método confusion_matrix()\n",
        "de scikit-learn para definir las métricas).\n",
        "\n",
        "c. Usar validación cruzada estratificada con \n",
        "\n",
        "5 particiones y con 3 repeticiones.\n",
        "\n",
        "d. Imprimir el valor de todas estas métricas, tanto para los datos de entrenamiento, como\n",
        "para los de validación. Así como los diagramas de caja y bigotes de los tres modelos con la\n",
        "métrica “recall”. ¿Alguno de los modelos está subentrenado o sobreentrenado? Justifica tu\n",
        "respuesta.\n",
        "\n",
        "e. En particular obtengamos algunas de las llamadas curvas de aprendizaje para algunos de\n",
        "estos casos. En dada gráfico debes incluir tus comentarios sobre el modelo generado:\n",
        "\n",
        "i. Obtener las curvas de aprendizaje (learning_curve) en la cual se va incrementando\n",
        "el tamaño de la muestra para el modelo de regresión Logística con su\n",
        "hiperparámetros predeterminados. Utilizar al menos 20 puntos en la partición de\n",
        "los conjuntos de entrenamiento y la métrica “f1-score”, como evaluación del\n",
        "desempeño de dicha función “learning_curve()”.\n",
        "\n",
        "ii. Obtener las curvas de validación (validation_curve) en la cual se va incrementando\n",
        "la complejidad del hiperparámetro “max_depth” para el modelo de árbol de\n",
        "decisión con sus hiperparámetros predeterminados. Utilizar valores de máxima "
      ],
      "metadata": {
        "id": "chqk9jIDC5Pq"
      }
    },
    {
      "cell_type": "code",
      "source": [
        "def mi_gmean(yreal, ypred):\n",
        "     cm = (confusion_matrix(yreal, ypred))     \n",
        "     gmean = np.sqrt(((cm[1,1])/(cm[1,1]+cm[1,0]))*((cm[0,0])/(cm[0,0]+cm[0,1])))\n",
        "     return gmean\n",
        "def mi_accuracy(yreal, ypred):\n",
        "     cm = (confusion_matrix(yreal, ypred))     \n",
        "     accuracy = (cm[0,0]+cm[1,1])/cm.sum()\n",
        "     return accuracy\n",
        "def mi_precision(yreal, ypred):\n",
        "     cm = (confusion_matrix(yreal, ypred))     \n",
        "     precision = (cm[1,1])/cm[:,1].sum()\n",
        "     return precision\n",
        "def mi_recall(yreal, ypred):\n",
        "     cm = (confusion_matrix(yreal, ypred))     \n",
        "     recall = (cm[1,1])/cm[1:].sum()\n",
        "     return recall\n",
        "def mi_f1_score (yreal,ypred):\n",
        "  recall=mi_recall(yreal,ypred)\n",
        "  precision=mi_precision(yreal,ypred)\n",
        "  return 2*(recall * precision) / (recall + precision)\n",
        "def mi_cm(yreal, ypred):\n",
        "\n",
        "  cm = confusion_matrix(yreal, ypred)\n",
        "  group_names = ['Verdaderos Negativos\\nVN','Falsos Positivos\\nFP','Falsos Negativos\\nFN','Verdaderos Positivos\\nVP']\n",
        "  group_counts = [\"{0:0.0f}\".format(value) for value in\n",
        "                cm.flatten()]\n",
        "  group_percentages = [\"{0:.2%}\".format(value) for value in\n",
        "                     cm.flatten()/np.sum(cm)]\n",
        "  labels = [f\"{v1}\\n{v2}\\n{v3}\" for v1, v2, v3 in\n",
        "          zip(group_names,group_counts,group_percentages)]\n",
        "  labels = np.asarray(labels).reshape(2,2)\n",
        "  sns.heatmap(cm, annot=labels, fmt='',cmap='Spectral')\n",
        "\n",
        "def mi_LearningCurvePlot(train_sizes, train_scores, val_scores,scorer):\n",
        "    train_mean = np.mean(train_scores, axis=1)\n",
        "    train_std = np.std(train_scores, axis=1)\n",
        "    val_mean = np.mean(val_scores, axis=1)\n",
        "    val_std = np.std(val_scores, axis=1)\n",
        "    plt.figure(figsize=(7,6))\n",
        "    plt.plot(train_sizes, train_mean, color='blue', marker='o', markersize=5, label='Training')\n",
        "    plt.fill_between(train_sizes, train_mean + train_std, train_mean - train_std, alpha=0.1, color='blue')\n",
        "    \n",
        "    plt.plot(train_sizes, val_mean, color='red', marker='+', markersize=5, linestyle='--', label='Validation')\n",
        "    plt.fill_between(train_sizes, val_mean + val_std, val_mean - val_std, alpha=0.1, color='red')\n",
        "    \n",
        "    plt.title('Curvas de Aprendizaje incrementando el tamaño de la muestra')\n",
        "    plt.xlabel('Tamaño del conjunto de entrenamiento')\n",
        "    plt.ylabel(scorer)\n",
        "    plt.grid()\n",
        "    plt.legend(loc='lower left')\n",
        "    plt.show()\n",
        "def mi_ValidationCurvePlot(train_sizes, train_scores, val_scores, scorer):\n",
        "    train_mean = np.mean(train_scores, axis=1)\n",
        "    train_std = np.std(train_scores, axis=1)\n",
        "    val_mean = np.mean(val_scores, axis=1)\n",
        "    val_std = np.std(val_scores, axis=1)\n",
        "    plt.figure(figsize=(7,6))\n",
        "    plt.plot(train_sizes, train_mean, color='blue', marker='o', markersize=5, label='Training')\n",
        "    plt.fill_between(train_sizes, train_mean + train_std, train_mean - train_std, alpha=0.1, color='blue')\n",
        "    \n",
        "    plt.plot(train_sizes, val_mean, color='red', marker='+', markersize=5, linestyle='--', label='Validation')\n",
        "    plt.fill_between(train_sizes, val_mean + val_std, val_mean - val_std, alpha=0.1, color='red')\n",
        "    \n",
        "    plt.title('Curvas de Validación incrementando el tamaño de la muestra')\n",
        "    plt.xlabel('Tamaño del conjunto de entrenamiento')\n",
        "    plt.ylabel(scorer)\n",
        "    plt.grid()\n",
        "    plt.legend(loc='lower left')\n",
        "    plt.show()"
      ],
      "metadata": {
        "id": "RBVSFwK4C6g9"
      },
      "execution_count": 153,
      "outputs": []
    },
    {
      "cell_type": "code",
      "source": [
        "def get_models_underoversampling():\n",
        "  modelos, nombres = list(), list()\n",
        "\n",
        "  # técnica y nombre: RandOver\n",
        "  modelos.append(RandomOverSampler())\n",
        "  nombres.append('Random-Oversampling')\n",
        "  # técnica y nombre: TomekLinks\n",
        "  modelos.append(TomekLinks())\n",
        "  nombres.append('Tomek-links')\n",
        "  # técnica y nombre: SMOTE\n",
        "  modelos.append(SMOTE())\n",
        "  nombres.append('SMOTE')\n",
        "  # técnica y nombre: SMOTEENN\n",
        "  modelos.append(SMOTEENN())\n",
        "  nombres.append('SMOTEEN')\n",
        "\n",
        "  return modelos, nombres\n",
        "\n",
        "\n",
        "\n",
        "model = [RandomForestClassifier(),\n",
        "          LogisticRegression(), tree.DecisionTreeClassifier()]\n",
        "pipes = []\n",
        "modelosOU,nombresOU = get_models_underoversampling()\n",
        "Results = [] \n",
        "nombres = [\"Random Forest\", \"Regresión Logística\",\"Arbol de Decisión\"]\n",
        "for i in range(len(model)):         \n",
        "  rf = Pipeline(\n",
        "    [\n",
        "        (\"preprocess\", preprocessor),\n",
        "        (\"classifier\", model[i]),\n",
        "    ]\n",
        "  )\n",
        "  pipes.append(rf)\n",
        "  print(nombres[i])\n",
        "  rf.fit(X_train, y_train)\n",
        "  print(f\"RF train accuracy: {rf.score(X_train, y_train):.3f}\")\n",
        "  print(f\"RF test accuracy: {rf.score(X_test, y_test):.3f}\")\n",
        "  yhat  = rf.predict(X_test)\n",
        " # mi_cm(y_test,yhat)\n",
        "  mismetricas = {'accuracy':make_scorer(mi_accuracy),'precision':make_scorer(mi_precision)\n",
        "  ,'recall':make_scorer(mi_recall),'f1_score':make_scorer(mi_f1_score),'gmean':make_scorer(mi_gmean)}\n",
        "  \n",
        "  kfold = RepeatedStratifiedKFold(n_splits=5, n_repeats=3) \n",
        "  resultados = cross_validate(rf,X,y, scoring=mismetricas,cv=kfold)\n",
        "  Results.append(resultados)\n",
        "  print('%s:\\nmean Accuracy: %.3f (%.4f)\\nmean Precision: %.3f (%.4f)\\nmean Recall: %.3f (%.4f)\\nf-1 Score: %.3f (%.4f)\\nGmean: %.3f (%.4f)\\n' % (nombres[i],\n",
        "                                                                          np.mean(resultados['test_accuracy']),\n",
        "                                                                          np.std(resultados['test_accuracy']),\n",
        "                                                                          np.mean(resultados['test_precision']),\n",
        "                                                                          np.std(resultados['test_precision']), \n",
        "                                                                          np.mean(resultados['test_recall']),\n",
        "                                                                          np.std(resultados['test_recall']),\n",
        "                                                                          np.mean(resultados['test_f1_score']),\n",
        "                                                                          np.std(resultados['test_f1_score']),\n",
        "                                                                          np.mean(resultados['test_gmean']),\n",
        "                                                                          np.std(resultados['test_gmean']),  \n",
        "                                                                          ))\n",
        "  for j in range(len(modelosOU)):\n",
        "    \n",
        "    pipe = make_pipeline((modelosOU[j]), (rf))\n",
        "    \n",
        "    kfold = RepeatedStratifiedKFold(n_splits=5, n_repeats=3) \n",
        "    resultadosOU = cross_validate(pipe,X,y, scoring=mismetricas,cv=kfold)\n",
        "   # print(resultadosOU)\n",
        "    print('%s:\\nmean Accuracy: %.3f (%.4f)\\nmean Precision: %.3f (%.4f)\\nmean Recall: %.3f (%.4f)\\nf-1 Score: %.3f (%.4f)\\nGmean: %.3f (%.4f)\\n' % (nombres[i]+' '+nombresOU[j],\n",
        "                                                                          np.mean(resultadosOU['test_accuracy']),\n",
        "                                                                          np.std(resultadosOU['test_accuracy']),\n",
        "                                                                          np.mean(resultadosOU['test_precision']),\n",
        "                                                                          np.std(resultadosOU['test_precision']), \n",
        "                                                                          np.mean(resultadosOU['test_recall']),\n",
        "                                                                          np.std(resultadosOU['test_recall']),\n",
        "                                                                          np.mean(resultadosOU['test_f1_score']),\n",
        "                                                                          np.std(resultadosOU['test_f1_score']),\n",
        "                                                                          np.mean(resultadosOU['test_gmean']),\n",
        "                                                                          np.std(resultadosOU['test_gmean']),  \n",
        "                                                                          ))\n",
        "\n",
        "  \n",
        "sns.set(rc={'figure.figsize':(8,4)})\n",
        "\n",
        "data=pd.DataFrame(columns=nombres)\n",
        "for i in range(len(Results)):\n",
        "  data[nombres[i]]=Results[i]['test_recall']\n",
        "sns.boxplot(data=data)\n",
        "\n"
      ],
      "metadata": {
        "id": "7KXnlNzAC69Y",
        "colab": {
          "base_uri": "https://localhost:8080/",
          "height": 1000
        },
        "outputId": "fa3279ae-b0f0-4aa8-c122-977c6b33f494"
      },
      "execution_count": 134,
      "outputs": [
        {
          "output_type": "stream",
          "name": "stdout",
          "text": [
            "Random Forest\n",
            "RF train accuracy: 1.000\n",
            "RF test accuracy: 0.747\n",
            "Random Forest:\n",
            "mean Accuracy: 0.750 (0.0251)\n",
            "mean Precision: 0.786 (0.0181)\n",
            "mean Recall: 0.884 (0.0261)\n",
            "f-1 Score: 0.832 (0.0174)\n",
            "Gmean: 0.620 (0.0432)\n",
            "\n",
            "Random Forest Random-Oversampling:\n",
            "mean Accuracy: 0.742 (0.0269)\n",
            "mean Precision: 0.805 (0.0186)\n",
            "mean Recall: 0.834 (0.0271)\n",
            "f-1 Score: 0.819 (0.0197)\n",
            "Gmean: 0.663 (0.0358)\n",
            "\n",
            "Random Forest Tomek-links:\n",
            "mean Accuracy: 0.752 (0.0168)\n",
            "mean Precision: 0.808 (0.0202)\n",
            "mean Recall: 0.849 (0.0200)\n",
            "f-1 Score: 0.828 (0.0109)\n",
            "Gmean: 0.667 (0.0382)\n",
            "\n",
            "Random Forest SMOTE:\n",
            "mean Accuracy: 0.733 (0.0381)\n",
            "mean Precision: 0.820 (0.0291)\n",
            "mean Recall: 0.793 (0.0465)\n",
            "f-1 Score: 0.806 (0.0300)\n",
            "Gmean: 0.683 (0.0486)\n",
            "\n",
            "Random Forest SMOTEEN:\n",
            "mean Accuracy: 0.709 (0.0372)\n",
            "mean Precision: 0.830 (0.0199)\n",
            "mean Recall: 0.734 (0.0492)\n",
            "f-1 Score: 0.778 (0.0334)\n",
            "Gmean: 0.690 (0.0330)\n",
            "\n",
            "Regresión Logística\n",
            "RF train accuracy: 0.779\n",
            "RF test accuracy: 0.753\n",
            "Regresión Logística:\n",
            "mean Accuracy: 0.762 (0.0245)\n",
            "mean Precision: 0.799 (0.0160)\n",
            "mean Recall: 0.882 (0.0350)\n",
            "f-1 Score: 0.838 (0.0185)\n",
            "Gmean: 0.649 (0.0345)\n",
            "\n",
            "Regresión Logística Random-Oversampling:\n",
            "mean Accuracy: 0.715 (0.0339)\n",
            "mean Precision: 0.850 (0.0235)\n",
            "mean Recall: 0.720 (0.0436)\n",
            "f-1 Score: 0.779 (0.0302)\n",
            "Gmean: 0.711 (0.0329)\n",
            "\n",
            "Regresión Logística Tomek-links:\n",
            "mean Accuracy: 0.753 (0.0241)\n",
            "mean Precision: 0.811 (0.0193)\n",
            "mean Recall: 0.844 (0.0279)\n",
            "f-1 Score: 0.827 (0.0173)\n",
            "Gmean: 0.674 (0.0363)\n",
            "\n",
            "Regresión Logística SMOTE:\n",
            "mean Accuracy: 0.728 (0.0223)\n",
            "mean Precision: 0.828 (0.0185)\n",
            "mean Recall: 0.771 (0.0355)\n",
            "f-1 Score: 0.798 (0.0195)\n",
            "Gmean: 0.693 (0.0273)\n",
            "\n",
            "Regresión Logística SMOTEEN:\n",
            "mean Accuracy: 0.706 (0.0267)\n",
            "mean Precision: 0.846 (0.0217)\n",
            "mean Recall: 0.710 (0.0420)\n",
            "f-1 Score: 0.771 (0.0248)\n",
            "Gmean: 0.702 (0.0258)\n",
            "\n",
            "Arbol de Decisión\n",
            "RF train accuracy: 1.000\n",
            "RF test accuracy: 0.653\n",
            "Arbol de Decisión:\n",
            "mean Accuracy: 0.675 (0.0344)\n",
            "mean Precision: 0.767 (0.0223)\n",
            "mean Recall: 0.770 (0.0430)\n",
            "f-1 Score: 0.768 (0.0277)\n",
            "Gmean: 0.589 (0.0460)\n",
            "\n",
            "Arbol de Decisión Random-Oversampling:\n",
            "mean Accuracy: 0.675 (0.0335)\n",
            "mean Precision: 0.767 (0.0231)\n",
            "mean Recall: 0.770 (0.0379)\n",
            "f-1 Score: 0.768 (0.0264)\n",
            "Gmean: 0.589 (0.0429)\n",
            "\n",
            "Arbol de Decisión Tomek-links:\n",
            "mean Accuracy: 0.658 (0.0421)\n",
            "mean Precision: 0.774 (0.0363)\n",
            "mean Recall: 0.724 (0.0331)\n",
            "f-1 Score: 0.748 (0.0302)\n",
            "Gmean: 0.602 (0.0640)\n",
            "\n",
            "Arbol de Decisión SMOTE:\n",
            "mean Accuracy: 0.677 (0.0139)\n",
            "mean Precision: 0.788 (0.0169)\n",
            "mean Recall: 0.738 (0.0305)\n",
            "f-1 Score: 0.761 (0.0135)\n",
            "Gmean: 0.626 (0.0294)\n",
            "\n",
            "Arbol de Decisión SMOTEEN:\n",
            "mean Accuracy: 0.662 (0.0265)\n",
            "mean Precision: 0.799 (0.0223)\n",
            "mean Recall: 0.691 (0.0431)\n",
            "f-1 Score: 0.740 (0.0256)\n",
            "Gmean: 0.639 (0.0297)\n",
            "\n"
          ]
        },
        {
          "output_type": "execute_result",
          "data": {
            "text/plain": [
              "<matplotlib.axes._subplots.AxesSubplot at 0x7f09f22836d0>"
            ]
          },
          "metadata": {},
          "execution_count": 134
        },
        {
          "output_type": "display_data",
          "data": {
            "text/plain": [
              "<Figure size 576x288 with 1 Axes>"
            ],
            "image/png": "[encoded data removed]"
          },
          "metadata": {}
        }
      ]
    },
    {
      "cell_type": "code",
      "source": [
        "delta_train_sz = np.linspace(0.1, 1.0, num=20)\n",
        "tr_sizes, tr_scores, val_scores = learning_curve(estimator = pipes[1] ,    \n",
        "                                                        X = X_train,\n",
        "                                                        y = y_train,\n",
        "                                                        cv = kfold ,\n",
        "                                                        train_sizes = delta_train_sz ,\n",
        "                                                        scoring=make_scorer(mi_f1_score),\n",
        "                                                        random_state=11)\n",
        "mi_LearningCurvePlot(tr_sizes, tr_scores, val_scores,'F1 Score')\n"
      ],
      "metadata": {
        "colab": {
          "base_uri": "https://localhost:8080/",
          "height": 410
        },
        "id": "3BujhpZIDmit",
        "outputId": "58284602-492d-44dc-8cd7-9a06b74b8744"
      },
      "execution_count": 159,
      "outputs": [
        {
          "output_type": "display_data",
          "data": {
            "text/plain": [
              "<Figure size 504x432 with 1 Axes>"
            ],
            "image/png": "[encoded data removed]"
          },
          "metadata": {}
        }
      ]
    },
    {
      "cell_type": "code",
      "source": [
        "#pipes[2].get_params().keys()\n",
        "train_scores, valid_scores = validation_curve( estimator = pipes[2],\n",
        "   X=X_train, y=y_train, param_name=\"classifier__max_depth\", param_range=delta_train_sz,\n",
        "   scoring=make_scorer(mi_f1_score),\n",
        "  cv=kfold)\n",
        "mi_ValidationCurvePlot(delta_train_sz, train_scores, valid_scores,'F1 Score')"
      ],
      "metadata": {
        "colab": {
          "base_uri": "https://localhost:8080/",
          "height": 410
        },
        "id": "K0DLiE8kFHOX",
        "outputId": "199123ff-da42-4538-b508-b19cb5ed0f6a"
      },
      "execution_count": 160,
      "outputs": [
        {
          "output_type": "display_data",
          "data": {
            "text/plain": [
              "<Figure size 504x432 with 1 Axes>"
            ],
            "image/png": "[encoded data removed]"
          },
          "metadata": {}
        }
      ]
    },
    {
      "cell_type": "code",
      "source": [
        "\n",
        "delta_train_sz = np.linspace(0.1, 1.0, num=20)\n",
        "tr_sizes, tr_scores, val_scores = learning_curve(estimator = pipes[0] ,    \n",
        "                                                        X = X_train,\n",
        "                                                        y = y_train,\n",
        "                                                        cv = kfold ,\n",
        "                                                        train_sizes = delta_train_sz ,\n",
        "                                                        scoring=make_scorer(mi_recall),\n",
        "                                                        random_state=11)\n",
        "mi_LearningCurvePlot(tr_sizes, tr_scores, val_scores,'Recall Score')"
      ],
      "metadata": {
        "colab": {
          "base_uri": "https://localhost:8080/",
          "height": 410
        },
        "id": "TIk_2CaZGToV",
        "outputId": "daf1a5a2-8eb6-4379-84ad-4d69b8c52c2b"
      },
      "execution_count": 161,
      "outputs": [
        {
          "output_type": "display_data",
          "data": {
            "text/plain": [
              "<Figure size 504x432 with 1 Axes>"
            ],
            "image/png": "[encoded data removed]"
          },
          "metadata": {}
        }
      ]
    },
    {
      "cell_type": "markdown",
      "source": [
        "#**Ejercicio-5.**"
      ],
      "metadata": {
        "id": "Rv7KFq-mC7PS"
      }
    },
    {
      "cell_type": "code",
      "source": [
        "None"
      ],
      "metadata": {
        "id": "jaDj3kawC9B6"
      },
      "execution_count": null,
      "outputs": []
    },
    {
      "cell_type": "code",
      "source": [],
      "metadata": {
        "id": "4tQxQROVC9Us"
      },
      "execution_count": null,
      "outputs": []
    },
    {
      "cell_type": "markdown",
      "source": [
        "#**Ejercicio-6.**"
      ],
      "metadata": {
        "id": "W2S7LI0NC9wE"
      }
    },
    {
      "cell_type": "code",
      "source": [
        "None"
      ],
      "metadata": {
        "id": "x6uBleJUC_AU"
      },
      "execution_count": null,
      "outputs": []
    },
    {
      "cell_type": "code",
      "source": [],
      "metadata": {
        "id": "n0P_AcyjC_Dh"
      },
      "execution_count": null,
      "outputs": []
    },
    {
      "cell_type": "markdown",
      "source": [
        "###**Fin de la Actividad de la semana 6.**"
      ],
      "metadata": {
        "id": "7ql_r2G-DB_m"
      }
    }
  ]
}